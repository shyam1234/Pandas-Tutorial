{
  "nbformat": 4,
  "nbformat_minor": 0,
  "metadata": {
    "colab": {
      "name": "String.ipynb",
      "version": "0.3.2",
      "provenance": [],
      "collapsed_sections": [],
      "include_colab_link": true
    },
    "kernelspec": {
      "name": "python3",
      "display_name": "Python 3"
    }
  },
  "cells": [
    {
      "cell_type": "markdown",
      "metadata": {
        "id": "view-in-github",
        "colab_type": "text"
      },
      "source": [
        "<a href=\"https://colab.research.google.com/github/shyam1234/Pandas-Tutorial/blob/master/String.ipynb\" target=\"_parent\"><img src=\"https://colab.research.google.com/assets/colab-badge.svg\" alt=\"Open In Colab\"/></a>"
      ]
    },
    {
      "metadata": {
        "id": "aQDuhBlMaIlQ",
        "colab_type": "text"
      },
      "cell_type": "markdown",
      "source": [
        "**This notebook helps to understand the String in Python.**"
      ]
    },
    {
      "metadata": {
        "id": "23ESYtu5aVnp",
        "colab_type": "code",
        "colab": {
          "base_uri": "https://localhost:8080/",
          "height": 34
        },
        "outputId": "d44ecf0d-12db-46f9-a34b-a219c7261b7b"
      },
      "cell_type": "code",
      "source": [
        "# First comment\n",
        "print (\" This is Python3 standard to print any String \"); # Not in Python2"
      ],
      "execution_count": 1,
      "outputs": [
        {
          "output_type": "stream",
          "text": [
            " This is Python3 standard to print any String \n"
          ],
          "name": "stdout"
        }
      ]
    },
    {
      "metadata": {
        "id": "7FXGMb9vamtU",
        "colab_type": "code",
        "colab": {
          "base_uri": "https://localhost:8080/",
          "height": 34
        },
        "outputId": "3984a8a2-e741-4c08-b7df-7b8cacf39478"
      },
      "cell_type": "code",
      "source": [
        "'''triple-quoted string is also ignored by Python interpreter and can be used as a multiline comments:'''"
      ],
      "execution_count": 2,
      "outputs": [
        {
          "output_type": "execute_result",
          "data": {
            "text/plain": [
              "'triple-quoted string is also ignored by Python interpreter and can be used as a multiline comments:'"
            ]
          },
          "metadata": {
            "tags": []
          },
          "execution_count": 2
        }
      ]
    },
    {
      "metadata": {
        "id": "tOHVjzOBavpx",
        "colab_type": "code",
        "colab": {
          "base_uri": "https://localhost:8080/",
          "height": 51
        },
        "outputId": "ebb071bd-8319-4aa5-b778-09a3989fca8b"
      },
      "cell_type": "code",
      "source": [
        "#String literals in python are surrounded by either single quotation marks, or double quotation marks\n",
        "print ('Malviya Studio')\n",
        "print (\"Malviya Studio\")"
      ],
      "execution_count": 4,
      "outputs": [
        {
          "output_type": "stream",
          "text": [
            "Malviya Studio\n",
            "Malviya Studio\n"
          ],
          "name": "stdout"
        }
      ]
    },
    {
      "metadata": {
        "id": "4AWryGEsbG5x",
        "colab_type": "code",
        "colab": {}
      },
      "cell_type": "code",
      "source": [
        "string  = \"Malviya Studio\""
      ],
      "execution_count": 0,
      "outputs": []
    },
    {
      "metadata": {
        "id": "4mi52a3rbRdU",
        "colab_type": "code",
        "colab": {
          "base_uri": "https://localhost:8080/",
          "height": 34
        },
        "outputId": "9946d24d-d4d9-4e70-ff95-e0eb0d389b06"
      },
      "cell_type": "code",
      "source": [
        "#Get the character at position 0\n",
        "print (string[0])"
      ],
      "execution_count": 7,
      "outputs": [
        {
          "output_type": "stream",
          "text": [
            "M\n"
          ],
          "name": "stdout"
        }
      ]
    },
    {
      "metadata": {
        "id": "A9NjLUu5bYP4",
        "colab_type": "code",
        "colab": {
          "base_uri": "https://localhost:8080/",
          "height": 34
        },
        "outputId": "520f4764-9020-4d0d-88c7-9200581bea53"
      },
      "cell_type": "code",
      "source": [
        "#Substring. Get the characters from position 2 to position 5 (not included):\n",
        "print (string[2:5])"
      ],
      "execution_count": 9,
      "outputs": [
        {
          "output_type": "stream",
          "text": [
            "lvi\n"
          ],
          "name": "stdout"
        }
      ]
    },
    {
      "metadata": {
        "id": "2V5J-95ZbogZ",
        "colab_type": "code",
        "colab": {
          "base_uri": "https://localhost:8080/",
          "height": 34
        },
        "outputId": "b611159e-d0e3-4479-8c30-6061974f3485"
      },
      "cell_type": "code",
      "source": [
        "#print full string\n",
        "print(string[:])"
      ],
      "execution_count": 10,
      "outputs": [
        {
          "output_type": "stream",
          "text": [
            "Malviya Studio\n"
          ],
          "name": "stdout"
        }
      ]
    },
    {
      "metadata": {
        "id": "J_evtarAbtFS",
        "colab_type": "code",
        "colab": {
          "base_uri": "https://localhost:8080/",
          "height": 34
        },
        "outputId": "ba339263-f95a-4dea-dca2-e32e44025183"
      },
      "cell_type": "code",
      "source": [
        "#print from first to 5th item\n",
        "print(string[:5])"
      ],
      "execution_count": 15,
      "outputs": [
        {
          "output_type": "stream",
          "text": [
            "Malvi\n"
          ],
          "name": "stdout"
        }
      ]
    },
    {
      "metadata": {
        "id": "Z3Qir7LqcF0P",
        "colab_type": "code",
        "colab": {
          "base_uri": "https://localhost:8080/",
          "height": 34
        },
        "outputId": "b12f3c63-0352-4914-ee18-777eadadbbf3"
      },
      "cell_type": "code",
      "source": [
        "#last character of the string\n",
        "print(string[-1])"
      ],
      "execution_count": 18,
      "outputs": [
        {
          "output_type": "stream",
          "text": [
            "o\n"
          ],
          "name": "stdout"
        }
      ]
    },
    {
      "metadata": {
        "id": "7rkTb9rQcM4a",
        "colab_type": "code",
        "colab": {
          "base_uri": "https://localhost:8080/",
          "height": 34
        },
        "outputId": "8f00ba1a-77ea-469e-d14b-6d0e90953100"
      },
      "cell_type": "code",
      "source": [
        "#take 2 character from the string\n",
        "print(string[::2])"
      ],
      "execution_count": 19,
      "outputs": [
        {
          "output_type": "stream",
          "text": [
            "MliaSui\n"
          ],
          "name": "stdout"
        }
      ]
    },
    {
      "metadata": {
        "id": "su1GVqK0bw8B",
        "colab_type": "code",
        "colab": {
          "base_uri": "https://localhost:8080/",
          "height": 34
        },
        "outputId": "14cf5f0d-da89-45fe-d4a4-1642a1476ed5"
      },
      "cell_type": "code",
      "source": [
        "#reverse the string\n",
        "print (string[::-1])"
      ],
      "execution_count": 14,
      "outputs": [
        {
          "output_type": "stream",
          "text": [
            "oidutS ayivlaM\n"
          ],
          "name": "stdout"
        }
      ]
    },
    {
      "metadata": {
        "id": "-ylwL6PlcC5N",
        "colab_type": "code",
        "colab": {
          "base_uri": "https://localhost:8080/",
          "height": 34
        },
        "outputId": "62366663-cf55-4b6f-e10d-1a099630cca0"
      },
      "cell_type": "code",
      "source": [
        "#print length of string\n",
        "print(len(string))"
      ],
      "execution_count": 23,
      "outputs": [
        {
          "output_type": "stream",
          "text": [
            "14\n"
          ],
          "name": "stdout"
        }
      ]
    },
    {
      "metadata": {
        "id": "PjbSSM9ndBBN",
        "colab_type": "code",
        "colab": {
          "base_uri": "https://localhost:8080/",
          "height": 34
        },
        "outputId": "e5175f04-f0c4-4d8b-fa01-aafe87da1b44"
      },
      "cell_type": "code",
      "source": [
        "#The strip() method removes any whitespace from the beginning or the end\n",
        "print(string.strip())"
      ],
      "execution_count": 24,
      "outputs": [
        {
          "output_type": "stream",
          "text": [
            "Malviya Studio\n"
          ],
          "name": "stdout"
        }
      ]
    },
    {
      "metadata": {
        "id": "bHC5c6PodHAO",
        "colab_type": "code",
        "colab": {
          "base_uri": "https://localhost:8080/",
          "height": 51
        },
        "outputId": "ec563b30-90b6-4d6c-e5fb-6e198716f4b2"
      },
      "cell_type": "code",
      "source": [
        "#The lower() method returns the string in lower case:\n",
        "print(string.lower())\n",
        "#The upper() method returns the string in upper case:\n",
        "print(string.upper())"
      ],
      "execution_count": 26,
      "outputs": [
        {
          "output_type": "stream",
          "text": [
            "malviya studio\n",
            "MALVIYA STUDIO\n"
          ],
          "name": "stdout"
        }
      ]
    },
    {
      "metadata": {
        "id": "wF-XLFZndTw-",
        "colab_type": "code",
        "colab": {
          "base_uri": "https://localhost:8080/",
          "height": 34
        },
        "outputId": "2290cd5c-2ac0-4f8e-9179-fec6dbfb2392"
      },
      "cell_type": "code",
      "source": [
        "#The replace() method replaces a string with another string:\n",
        "print(string.replace(\"M\", \"J\"))"
      ],
      "execution_count": 30,
      "outputs": [
        {
          "output_type": "stream",
          "text": [
            "Jalviya Studio\n"
          ],
          "name": "stdout"
        }
      ]
    },
    {
      "metadata": {
        "id": "B57RiwNPdjCG",
        "colab_type": "code",
        "colab": {
          "base_uri": "https://localhost:8080/",
          "height": 51
        },
        "outputId": "ce98b359-80fe-4de2-c378-065267264e60"
      },
      "cell_type": "code",
      "source": [
        "#The split() method splits the string into substrings if it finds instances of the separator:\n",
        "print(string.split(\",\"))\n",
        "\n",
        "a= \"1,2,3,4,5,6\"\n",
        "print(a.split(\",\"))"
      ],
      "execution_count": 32,
      "outputs": [
        {
          "output_type": "stream",
          "text": [
            "['Malviya Studio']\n",
            "['1', '2', '3', '4', '5', '6']\n"
          ],
          "name": "stdout"
        }
      ]
    },
    {
      "metadata": {
        "id": "uSMy61Spd1g7",
        "colab_type": "code",
        "colab": {}
      },
      "cell_type": "code",
      "source": [
        ""
      ],
      "execution_count": 0,
      "outputs": []
    },
    {
      "metadata": {
        "id": "X3Rj6bNbeGTM",
        "colab_type": "text"
      },
      "cell_type": "markdown",
      "source": [
        "**Command-line String Input**"
      ]
    },
    {
      "metadata": {
        "id": "PlH9GHizdrTX",
        "colab_type": "code",
        "colab": {
          "base_uri": "https://localhost:8080/",
          "height": 68
        },
        "outputId": "52b9854b-23f7-413e-9b55-e02da0d73e14"
      },
      "cell_type": "code",
      "source": [
        "'''Python allows for command line input.\n",
        "That means we are able to ask the user for input.\n",
        "The following example asks for the user's name, then, by using the input() method, the program prints the name to the screen:'''\n",
        "\n",
        "print(\"Enter your name:\")\n",
        "x = input()\n",
        "print(\"Hello, \" + x)"
      ],
      "execution_count": 33,
      "outputs": [
        {
          "output_type": "stream",
          "text": [
            "Enter your name:\n",
            "Malviya Studio\n",
            "Hello, Malviya Studio\n"
          ],
          "name": "stdout"
        }
      ]
    },
    {
      "metadata": {
        "id": "DDFpE_Fme9Hs",
        "colab_type": "code",
        "colab": {}
      },
      "cell_type": "code",
      "source": [
        ""
      ],
      "execution_count": 0,
      "outputs": []
    }
  ]
}